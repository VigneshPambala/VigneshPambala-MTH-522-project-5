{
 "cells": [
  {
   "cell_type": "code",
   "execution_count": 22,
   "id": "93698d0f-8078-4857-8fd9-e5adc0da5a16",
   "metadata": {},
   "outputs": [
    {
     "name": "stdout",
     "output_type": "stream",
     "text": [
      "Accuracy for k=1: 0.8341013824884793\n",
      "Fraction of correctly classified 2023 locations for k=1: 0.8341013824884793\n",
      "Accuracy for k=3: 0.8341013824884793\n",
      "Fraction of correctly classified 2023 locations for k=3: 0.8341013824884793\n",
      "Accuracy for k=5: 0.8341013824884793\n",
      "Fraction of correctly classified 2023 locations for k=5: 0.8341013824884793\n",
      "Accuracy for k=7: 0.8341013824884793\n",
      "Fraction of correctly classified 2023 locations for k=7: 0.8341013824884793\n",
      "Accuracy for k=9: 0.8341013824884793\n",
      "Fraction of correctly classified 2023 locations for k=9: 0.8341013824884793\n"
     ]
    }
   ],
   "source": [
    "import pandas as pd\n",
    "import numpy as np\n",
    "from sklearn.model_selection import train_test_split\n",
    "from sklearn.preprocessing import StandardScaler\n",
    "from sklearn.metrics import accuracy_score\n",
    "\n",
    "# Load data from Excel file\n",
    "file_path = r\"C:\\Users\\vignesh\\Desktop\\sem1\\math\\Project_5\\us-violence-brief-1.xls\"\n",
    "data = pd.read_excel(file_path)\n",
    "\n",
    "# Preprocessing data\n",
    "# Convert dates to numerical format\n",
    "data['date'] = pd.to_datetime(data[['year', 'month', 'day']])\n",
    "data.drop(['year', 'month', 'day'], axis=1, inplace=True)\n",
    "\n",
    "# Scale latitude and longitude if necessary\n",
    "scaler = StandardScaler()\n",
    "data[['latitude', 'longitude']] = scaler.fit_transform(data[['latitude', 'longitude']])\n",
    "\n",
    "# Convert datetime to timestamp (int64)\n",
    "data['timestamp'] = data['date'].astype('int64') // 10**9  # Converting nanoseconds to seconds\n",
    "\n",
    "# Split data into training and testing sets\n",
    "train_data = data[data['date'].dt.year < 2023]\n",
    "test_data = data[data['date'].dt.year == 2023]\n",
    "\n",
    "# Define distance function (Euclidean distance)\n",
    "def euclidean_distance(x1, x2):\n",
    "    numerical_x1 = np.array([x1['latitude'], x1['longitude'], x1['timestamp']])\n",
    "    numerical_x2 = np.array([x2['latitude'], x2['longitude'], x2['timestamp']])\n",
    "    return np.sqrt(np.sum((numerical_x1 - numerical_x2) ** 2))\n",
    "\n",
    "# Implement KNN algorithm\n",
    "def knn(train_data, test_data, k):\n",
    "    predictions = []\n",
    "    for i in range(len(test_data)):\n",
    "        distances = []\n",
    "        for j in range(len(train_data)):\n",
    "            dist = euclidean_distance(test_data.iloc[i], train_data.iloc[j])\n",
    "            if dist >= 0:  # Ensure non-negative distances\n",
    "                distances.append((dist, train_data.iloc[j, 0]))\n",
    "        distances.sort(key=lambda x: x[0])\n",
    "        neighbors = distances[:k]\n",
    "        counts = np.zeros(2)  # Initialize counts array with zeros\n",
    "        for neighbor in neighbors:\n",
    "            if neighbor[0] >= 0:\n",
    "                counts[int(neighbor[1])] += 1\n",
    "        prediction = np.argmax(counts)\n",
    "        predictions.append(prediction)\n",
    "    return predictions\n",
    "\n",
    "# Choose odd values of k for KNN\n",
    "k_values = [1, 3, 5, 7, 9]\n",
    "\n",
    "# Evaluate KNN for each k value\n",
    "for k in k_values:\n",
    "    predictions = knn(train_data, test_data, k)\n",
    "    accuracy = accuracy_score(test_data['fatalities'], predictions)\n",
    "    print(f\"Accuracy for k={k}: {accuracy}\")\n",
    "\n",
    "    # Calculate the fraction of correctly classified 2023 locations\n",
    "    total_2023_data_points = len(test_data)\n",
    "    correctly_classified = sum(predictions == test_data['fatalities'])\n",
    "    fraction_correctly_classified = correctly_classified / total_2023_data_points\n",
    "    print(f\"Fraction of correctly classified 2023 locations for k={k}: {fraction_correctly_classified}\")"
   ]
  },
  {
   "cell_type": "code",
   "execution_count": null,
   "id": "bcbeb4bb-7f32-4e74-8d05-af3c3ab4612d",
   "metadata": {},
   "outputs": [],
   "source": []
  },
  {
   "cell_type": "code",
   "execution_count": null,
   "id": "e2239457-f4b4-4d26-8442-ae0108330d36",
   "metadata": {},
   "outputs": [],
   "source": []
  }
 ],
 "metadata": {
  "kernelspec": {
   "display_name": "Python 3 (ipykernel)",
   "language": "python",
   "name": "python3"
  },
  "language_info": {
   "codemirror_mode": {
    "name": "ipython",
    "version": 3
   },
   "file_extension": ".py",
   "mimetype": "text/x-python",
   "name": "python",
   "nbconvert_exporter": "python",
   "pygments_lexer": "ipython3",
   "version": "3.12.4"
  }
 },
 "nbformat": 4,
 "nbformat_minor": 5
}
